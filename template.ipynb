{
 "cells": [
  {
   "cell_type": "markdown",
   "metadata": {},
   "source": [
    "# Scatterplot Matrices & Heatmap & Parallel Coordinates"
   ]
  },
  {
   "cell_type": "code",
   "execution_count": null,
   "metadata": {},
   "outputs": [],
   "source": [
    "import pandas as pd\n",
    "from pandas.plotting import scatter_matrix  \n",
    "from pandas.plotting import parallel_coordinates  \n",
    "import seaborn as sns\n",
    "import altair as alt"
   ]
  },
  {
   "cell_type": "code",
   "execution_count": null,
   "metadata": {},
   "outputs": [],
   "source": [
    "#Switch to Jupyter Notebook mode of matplotlib (pandas is using matplotlib for the scatterplot matrix)\n",
    "%matplotlib inline  \n",
    "\n",
    "sns.set(style=\"ticks\") # use ticks on plot axes\n",
    "\n",
    "# Starting with altair v4, enabling a notebook renderer is no longer necessary: alt.renderers.enable('notebook') \n",
    "alt.__version__"
   ]
  },
  {
   "cell_type": "markdown",
   "metadata": {},
   "source": [
    "## Dataset  "
   ]
  },
  {
   "cell_type": "code",
   "execution_count": null,
   "metadata": {},
   "outputs": [],
   "source": [
    "# Load the pokemon/fifa dataset\n",
    "df_data = pd.read_csv('./pokemon.csv')\n",
    "# More infomation about the dataset: https://www.kaggle.com/rounakbanik/pokemon\n",
    "\n",
    "#df_data = pd.read_csv('./FIFA19_players.csv')\n",
    "# More infomation about the dataset: https://www.kaggle.com/karangadiya/fifa19"
   ]
  },
  {
   "cell_type": "code",
   "execution_count": null,
   "metadata": {},
   "outputs": [],
   "source": [
    "# Inspect the dataset \n",
    "# See https://pandas.pydata.org/pandas-docs/stable/reference/frame.html\n",
    "df_data.dtypes # No semicolon to see the output in the notebook"
   ]
  },
  {
   "cell_type": "code",
   "execution_count": null,
   "metadata": {},
   "outputs": [],
   "source": [
    "# Take a glimpse into the data\n",
    "df_data.head() # No semicolon to see the output in the notebook"
   ]
  },
  {
   "cell_type": "markdown",
   "metadata": {},
   "source": [
    "Hint: Pandas offers [dropna](https://pandas.pydata.org/pandas-docs/stable/reference/api/pandas.DataFrame.dropna.html) function to filter out missing data."
   ]
  },
  {
   "cell_type": "markdown",
   "metadata": {},
   "source": [
    "## **Student Information**"
   ]
  },
  {
   "cell_type": "markdown",
   "metadata": {},
   "source": [
    "Name: **TODO**\n",
    "\n",
    "Student ID: **TODO**"
   ]
  },
  {
   "cell_type": "markdown",
   "metadata": {},
   "source": [
    "***"
   ]
  },
  {
   "cell_type": "markdown",
   "metadata": {},
   "source": [
    "## **<font color=blue>Task:</font> Scatterplot Matrix**\n",
    "### Simple Scatterplot Matrix\n",
    "Select more than two attributes that are suitable and create a scatterplot matrix (e.g., with [pandas](https://pandas.pydata.org/pandas-docs/stable/reference/api/pandas.plotting.scatter_matrix.html) or [altair](https://altair-viz.github.io/gallery/scatter_matrix.html))."
   ]
  },
  {
   "cell_type": "code",
   "execution_count": null,
   "metadata": {},
   "outputs": [],
   "source": [
    "# TODO"
   ]
  },
  {
   "cell_type": "markdown",
   "metadata": {},
   "source": [
    "### Colored Scatterplot Matrix\n",
    "Select a categorical attribute and encode its values with color in the scatterplot matrix (e.g. with [altair](https://altair-viz.github.io/gallery/scatter_matrix.html) again or [seaborn pairplot](https://seaborn.pydata.org/generated/seaborn.pairplot.html#seaborn.pairplot))."
   ]
  },
  {
   "cell_type": "code",
   "execution_count": null,
   "metadata": {},
   "outputs": [],
   "source": [
    "# Plot the selected attributes again and color code the points by position\n",
    "\n",
    "# TODO"
   ]
  },
  {
   "cell_type": "markdown",
   "metadata": {},
   "source": [
    "### Interpretation\n",
    "\n",
    "*TODO: Share your top-2 insights from the scatterplot matrix/matrices*"
   ]
  },
  {
   "cell_type": "markdown",
   "metadata": {},
   "source": [
    "## **<font color=blue>Task:</font> Heat Map**\n",
    "Select suitable attributes and visualise the data in a heatmap, e.g. with [seaborn](https://seaborn.pydata.org/generated/seaborn.heatmap.html) or [altair](https://altair-viz.github.io/gallery/simple_heatmap.html).  \n",
    "Do not create a correlation heatmap. Correlations can already be read from the scatterplot matrix."
   ]
  },
  {
   "cell_type": "code",
   "execution_count": null,
   "metadata": {},
   "outputs": [],
   "source": [
    "# TODO"
   ]
  },
  {
   "cell_type": "markdown",
   "metadata": {},
   "source": [
    "### Interpretation\n",
    "\n",
    "*TODO: Share your top-2 insights from the heatmap*"
   ]
  },
  {
   "cell_type": "markdown",
   "metadata": {},
   "source": [
    "## **<font color=blue>Task:</font> Parallel Coordinates**\n",
    "Select a categorical attribute and encode the lines with color in the parallel coordinates chart. (e.g. with [pandas](https://pandas.pydata.org/pandas-docs/stable/reference/api/pandas.plotting.parallel_coordinates.html) or [altair](https://altair-viz.github.io/gallery/parallel_coordinates.html))."
   ]
  },
  {
   "cell_type": "code",
   "execution_count": null,
   "metadata": {},
   "outputs": [],
   "source": [
    "# TODO"
   ]
  },
  {
   "cell_type": "markdown",
   "metadata": {},
   "source": [
    "### Interpretation\n",
    "\n",
    "*TODO: Share your top-2 insights from the parallel coordinates plot*"
   ]
  },
  {
   "cell_type": "markdown",
   "metadata": {},
   "source": [
    "***"
   ]
  },
  {
   "cell_type": "markdown",
   "metadata": {},
   "source": [
    "## **Submission**\n",
    "\n",
    "Please add your student information (name,student ID) and download this notebook as HTML (File > Export Notebook As... > Export Notebook to HTML) and submit it."
   ]
  }
 ],
 "metadata": {
  "kernelspec": {
   "display_name": "Python 3",
   "language": "python",
   "name": "python3"
  },
  "language_info": {
   "codemirror_mode": {
    "name": "ipython",
    "version": 3
   },
   "file_extension": ".py",
   "mimetype": "text/x-python",
   "name": "python",
   "nbconvert_exporter": "python",
   "pygments_lexer": "ipython3",
   "version": "3.8.5"
  }
 },
 "nbformat": 4,
 "nbformat_minor": 4
}
